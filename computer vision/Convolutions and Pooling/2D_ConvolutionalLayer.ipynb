{
 "cells": [
  {
   "cell_type": "markdown",
   "metadata": {},
   "source": [
    "# Importing Modules"
   ]
  },
  {
   "cell_type": "code",
   "execution_count": 1,
   "metadata": {},
   "outputs": [],
   "source": [
    "from numpy import asarray\n",
    "from keras.models import Sequential\n",
    "from keras.layers import Conv2D"
   ]
  },
  {
   "cell_type": "markdown",
   "metadata": {},
   "source": [
    "# Defining Contrived Image Data"
   ]
  },
  {
   "cell_type": "code",
   "execution_count": 4,
   "metadata": {},
   "outputs": [],
   "source": [
    "image = [[0, 0, 0, 100, 100, 0, 0, 0],\n",
    "         [0, 0, 0, 100, 100, 0, 0, 0],\n",
    "         [0, 0, 0, 100, 100, 0, 0, 0],\n",
    "         [0, 0, 0, 100, 100, 0, 0, 0],\n",
    "         [0, 0, 0, 100, 100, 0, 0, 0],\n",
    "         [0, 0, 0, 100, 100, 0, 0, 0],\n",
    "         [0, 0, 0, 100, 100, 0, 0, 0],\n",
    "         [0, 0, 0, 100, 100, 0, 0, 0]]\n",
    "image = asarray(image)\n",
    "image = image.reshape(1, 8, 8, 1)"
   ]
  },
  {
   "cell_type": "markdown",
   "metadata": {},
   "source": [
    "# Creating Model"
   ]
  },
  {
   "cell_type": "code",
   "execution_count": 5,
   "metadata": {},
   "outputs": [],
   "source": [
    "model = Sequential()\n",
    "model.add(Conv2D(1, (3,3), input_shape=(8, 8, 1)))"
   ]
  },
  {
   "cell_type": "markdown",
   "metadata": {},
   "source": [
    "# Creating Filter"
   ]
  },
  {
   "cell_type": "code",
   "execution_count": 6,
   "metadata": {},
   "outputs": [],
   "source": [
    "# Vertical line detector\n",
    "filter = [[[[0]],[[1]],[[0]]],\n",
    "          [[[0]],[[1]],[[0]]],\n",
    "          [[[0]],[[1]],[[0]]]]"
   ]
  },
  {
   "cell_type": "markdown",
   "metadata": {},
   "source": [
    "# Defining Weights"
   ]
  },
  {
   "cell_type": "code",
   "execution_count": 7,
   "metadata": {},
   "outputs": [],
   "source": [
    "weights = [asarray(filter), asarray([0.0])]\n",
    "model.set_weights(weights)"
   ]
  },
  {
   "cell_type": "code",
   "execution_count": 10,
   "metadata": {},
   "outputs": [
    {
     "name": "stdout",
     "output_type": "stream",
     "text": [
      "[array([[[[0.]],\n",
      "\n",
      "        [[1.]],\n",
      "\n",
      "        [[0.]]],\n",
      "\n",
      "\n",
      "       [[[0.]],\n",
      "\n",
      "        [[1.]],\n",
      "\n",
      "        [[0.]]],\n",
      "\n",
      "\n",
      "       [[[0.]],\n",
      "\n",
      "        [[1.]],\n",
      "\n",
      "        [[0.]]]], dtype=float32), array([0.], dtype=float32)]\n",
      "[0.0, 0.0, 300.0, 300.0, 0.0, 0.0]\n",
      "[0.0, 0.0, 300.0, 300.0, 0.0, 0.0]\n",
      "[0.0, 0.0, 300.0, 300.0, 0.0, 0.0]\n",
      "[0.0, 0.0, 300.0, 300.0, 0.0, 0.0]\n",
      "[0.0, 0.0, 300.0, 300.0, 0.0, 0.0]\n",
      "[0.0, 0.0, 300.0, 300.0, 0.0, 0.0]\n"
     ]
    }
   ],
   "source": [
    "print(model.get_weights())\n",
    "output = model.predict(image)\n",
    "for r in range(output.shape[1]):\n",
    "    # print each column in the row\n",
    "    print([output[0,r,c,0] for c in range(output.shape[2])])\n"
   ]
  },
  {
   "cell_type": "code",
   "execution_count": null,
   "metadata": {},
   "outputs": [],
   "source": []
  }
 ],
 "metadata": {
  "kernelspec": {
   "display_name": "Python 3",
   "language": "python",
   "name": "python3"
  },
  "language_info": {
   "codemirror_mode": {
    "name": "ipython",
    "version": 3
   },
   "file_extension": ".py",
   "mimetype": "text/x-python",
   "name": "python",
   "nbconvert_exporter": "python",
   "pygments_lexer": "ipython3",
   "version": "3.7.1"
  }
 },
 "nbformat": 4,
 "nbformat_minor": 4
}
