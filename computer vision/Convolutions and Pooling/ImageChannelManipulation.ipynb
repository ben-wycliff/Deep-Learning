{
 "cells": [
  {
   "cell_type": "markdown",
   "metadata": {},
   "source": [
    "# Importing modules"
   ]
  },
  {
   "cell_type": "code",
   "execution_count": 7,
   "metadata": {},
   "outputs": [],
   "source": [
    "from numpy import expand_dims, asarray, moveaxis\n",
    "from matplotlib import pyplot\n",
    "from PIL import Image"
   ]
  },
  {
   "cell_type": "markdown",
   "metadata": {},
   "source": [
    "# Adding a Channel to a GrayScale Image"
   ]
  },
  {
   "cell_type": "code",
   "execution_count": 8,
   "metadata": {},
   "outputs": [
    {
     "name": "stdout",
     "output_type": "stream",
     "text": [
      "Image array shape (1200, 1600)\n",
      "Channels first array shape: (1, 1200, 1600)\n",
      "Channels last array shape: (1200, 1600, 1)\n"
     ]
    }
   ],
   "source": [
    "img = Image.open(\"water.jpg\")\n",
    "# converting to grayscale\n",
    "img = img.convert(mode=\"L\")\n",
    "# turn into a numpy array\n",
    "img_array = asarray(img)\n",
    "print(f\"Image array shape {img_array.shape}\")\n",
    "# putting channels first\n",
    "img_channels_first = expand_dims(img_array, axis=0)\n",
    "# putting channels last\n",
    "img_channels_last = expand_dims(img_array, axis=2)\n",
    "print(f\"Channels first array shape: {img_channels_first.shape}\")\n",
    "print(f\"Channels last array shape: {img_channels_last.shape}\")"
   ]
  },
  {
   "cell_type": "markdown",
   "metadata": {},
   "source": [
    "# Changing Channel Ordering"
   ]
  },
  {
   "cell_type": "code",
   "execution_count": 9,
   "metadata": {},
   "outputs": [
    {
     "name": "stdout",
     "output_type": "stream",
     "text": [
      "Initial array ordering: (1200, 1600, 3)\n"
     ]
    }
   ],
   "source": [
    "img = Image.open(\"water.jpg\")\n",
    "data = asarray(img)\n",
    "print(f\"Initial array ordering: {data.shape}\")"
   ]
  },
  {
   "cell_type": "code",
   "execution_count": 11,
   "metadata": {},
   "outputs": [
    {
     "name": "stdout",
     "output_type": "stream",
     "text": [
      "(3, 1200, 1600)\n",
      "(1200, 1600, 3)\n"
     ]
    }
   ],
   "source": [
    "#converting to channels first\n",
    "data = moveaxis(data, 2, 0)\n",
    "print(data.shape)\n",
    "# converting back to channels last\n",
    "data = moveaxis(data, 0, 2)\n",
    "print(data.shape)"
   ]
  },
  {
   "cell_type": "code",
   "execution_count": null,
   "metadata": {},
   "outputs": [],
   "source": []
  }
 ],
 "metadata": {
  "kernelspec": {
   "display_name": "Python 3",
   "language": "python",
   "name": "python3"
  },
  "language_info": {
   "codemirror_mode": {
    "name": "ipython",
    "version": 3
   },
   "file_extension": ".py",
   "mimetype": "text/x-python",
   "name": "python",
   "nbconvert_exporter": "python",
   "pygments_lexer": "ipython3",
   "version": "3.7.1"
  }
 },
 "nbformat": 4,
 "nbformat_minor": 4
}
